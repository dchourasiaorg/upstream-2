{
 "cells": [
  {
   "cell_type": "markdown",
   "metadata": {},
   "source": [
    "# My Project\n",
    "\n",
    "S2I buildable version of [cookiecutter-data-science](https://drivendata.github.io/cookiecutter-data-science/), \"A logical, reasonably standardized, but flexible project structure for doing and sharing data science work.\"\n",
    "\n",
    "In addition to being a place to experiment, this project has been structured to build and serve your model in a Flask application.  The purpose is to allow data science exploration to easily transition into deployed services and applications on the OpenShift platform.  After saving this project to git, it can be built on the OpenShift platform to serve models. Dependencies will live in `requirements.txt` and your prediction function will live in `src/models/predict_model.py`.  As a Python based s2i application, this project can be configured and built upon to fit your needs.\n",
    "\n",
    "Project Organization\n",
    "------------\n",
    "```\n",
    "├── LICENSE\n",
    "├── Makefile           <- Makefile with commands like `make data` or `make train`\n",
    "├── README.md          <- The top-level README for developers using this project.\n",
    "├── data\n",
    "│   ├── external       <- Data from third party sources.\n",
    "│   ├── interim        <- Intermediate data that has been transformed.\n",
    "│   ├── processed      <- The final, canonical data sets for modeling.\n",
    "│   └── raw            <- The original, immutable data dump.\n",
    "│\n",
    "├── docs               <- A default Sphinx project; see sphinx-doc.org for details\n",
    "│\n",
    "├── models             <- Trained and serialized models, model predictions, or model summaries\n",
    "│\n",
    "├── notebooks          <- Jupyter notebooks. Naming convention is a number (for ordering),\n",
    "│   │                     the creator's initials, and a short `-` delimited description, e.g.\n",
    "│   │                     `1.0-jqp-initial-data-exploration`.\n",
    "│   ├── 0_start_here.ipynb    <- Instructional notebook\n",
    "│   ├── 1_run_flask.ipynb     <- Notebook for testing flask requests\n",
    "│   └── 2_test_flask.ipynb    <- Notebook for testing flask requests\n",
    "│\n",
    "├── references         <- Data dictionaries, manuals, and all other explanatory materials.\n",
    "│\n",
    "├── reports            <- Generated analysis as HTML, PDF, LaTeX, etc.\n",
    "│   └── figures        <- Generated graphics and figures to be used in reporting\n",
    "│\n",
    "├── requirements.txt   <- The requirements file for use inside Jupyter notebooks and \n",
    "│                         also used to install packages for s2i application\n",
    "│\n",
    "├── setup.py           <- makes project pip installable (pip install -e .) so src can be imported\n",
    "├── src                <- Source code for use in this project.\n",
    "│   ├── __init__.py    <- Makes src a Python module\n",
    "│   │\n",
    "│   ├── data           <- Scripts to download or generate data\n",
    "│   │   └── make_dataset.py\n",
    "│   │\n",
    "│   ├── features       <- Scripts to turn raw data into features for modeling\n",
    "│   │   └── build_features.py\n",
    "│   │\n",
    "│   ├── models         <- Scripts to train models and then use trained models to make\n",
    "│   │   │                 predictions\n",
    "│   │   ├── predict_model.py <- the predict function called from Flask\n",
    "│   │   └── train_model.py\n",
    "│   │\n",
    "│   └── visualization  <- Scripts to create exploratory and results oriented visualizations\n",
    "│       └── visualize.py\n",
    "│\n",
    "├── tox.ini                  <- tox file with settings for running tox; see tox.readthedocs.io\n",
    "├── .gitignore               <- standard python gitignore\n",
    "├── .s2i                     <- hidden folder for advanced s2i configuration\n",
    "│   └── environment          <- s2i environment settings\n",
    "├── gunicorn_config.py       <- configuration for gunicorn when run in OpenShift\n",
    "└── wsgi.py                  <- basic Flask application\n",
    "\n",
    "```\n",
    "\n",
    "\n",
    "\n",
    "### Basic Flow\n",
    "\n",
    "1. Install and manage dependencies in `requirements.txt`.\n",
    "1. Experiment as usual.\n",
    "1. Extract your prediction into the `src/models/predict_model.py` file.\n",
    "1. Update any dependencies.\n",
    "1. Run and test your application locally.\n",
    "1. Save to git.\n",
    "\n",
    "For a complete overview, please read the [README.md](./README.md)\n"
   ]
  },
  {
   "cell_type": "markdown",
   "metadata": {},
   "source": [
    "## Install Dependencies"
   ]
  },
  {
   "cell_type": "code",
   "execution_count": null,
   "metadata": {
    "cellView": "both",
    "id": "KUu4vOt5zI9d"
   },
   "outputs": [],
   "source": [
    "import sys\n",
    "!{sys.executable} -m pip install -r ../requirements.txt"
   ]
  },
  {
   "cell_type": "markdown",
   "metadata": {},
   "source": [
    "## Experiment\n",
    "\n",
    "Experiment with data and create your prediction function"
   ]
  },
  {
   "cell_type": "code",
   "execution_count": null,
   "metadata": {},
   "outputs": [],
   "source": [
    "def predict(args_dict):\n",
    "    return {'prediction': 'not implemented'}\n",
    "\n",
    "predict({'keys': 'values'})"
   ]
  },
  {
   "cell_type": "markdown",
   "metadata": {},
   "source": [
    "## Create a Predict Function\n",
    "\n",
    "Extract the prediction logic into a standalone python file, `prediction.py` in a `predict` function."
   ]
  },
  {
   "cell_type": "markdown",
   "metadata": {},
   "source": [
    "## Test Predict Function"
   ]
  },
  {
   "cell_type": "code",
   "execution_count": null,
   "metadata": {},
   "outputs": [],
   "source": [
    "import os\n",
    "notebook_directory = os.getcwd()\n",
    "root_dir = os.path.abspath(f'{notebook_directory}/..')\n",
    "os.chdir(root_dir)\n",
    "print(f'Changing current working directory to root (${root_dir}) to load files from src')"
   ]
  },
  {
   "cell_type": "code",
   "execution_count": null,
   "metadata": {},
   "outputs": [],
   "source": [
    "from src.models.predict_model import predict\n",
    "\n",
    "predict({'keys': 'values'})"
   ]
  },
  {
   "cell_type": "markdown",
   "metadata": {},
   "source": [
    "### Run Flask\n",
    "\n",
    "Run flask in a separate notebook ([1_run_flask.ipynb](./1_run_flask.ipynb)) to create a local service to try it out.\n",
    "\n",
    "```\n",
    "!cd .. && FLASK_ENV=development FLASK_APP=wsgi.py flask run\n",
    "```"
   ]
  },
  {
   "cell_type": "markdown",
   "metadata": {},
   "source": [
    "### Test the Flask Endpoint\n",
    "\n",
    "Test your new service endpointfrom a separate notebook ([2_test_flask.ipynb](./2_test_flask.ipynb)) to try it out.\n",
    "\n",
    "```\n",
    "!curl -X POST -H \"Content-Type: application/json\" --data '{\"data\": \"hello world\"}' http://localhost:5000/predictions\n",
    "```"
   ]
  },
  {
   "cell_type": "code",
   "execution_count": null,
   "metadata": {},
   "outputs": [],
   "source": [
    "!curl -X POST -H \"Content-Type: application/json\" --data '{\"data\": \"hello world\"}' http://localhost:5000/predictions\n"
   ]
  },
  {
   "cell_type": "code",
   "execution_count": null,
   "metadata": {},
   "outputs": [],
   "source": [
    "import requests\n",
    "import json\n",
    "response = requests.post('http://127.0.0.1:5000/predictions', '{\"hello\":\"world\"}')\n",
    "response.json()"
   ]
  },
  {
   "cell_type": "markdown",
   "metadata": {},
   "source": [
    "### Save Your Project to Git (and Build)\n",
    "\n",
    "Now that you've created and tested your prediction and service endpoint, push the code up to git.  This can be built as an s2i application on OpenShift.\n",
    "\n",
    "\n"
   ]
  },
  {
   "cell_type": "code",
   "execution_count": null,
   "metadata": {},
   "outputs": [],
   "source": []
  }
 ],
 "metadata": {
  "accelerator": "GPU",
  "colab": {
   "collapsed_sections": [],
   "name": "Object detection",
   "private_outputs": true,
   "provenance": [],
   "toc_visible": true
  },
  "kernelspec": {
   "display_name": "Python 3",
   "language": "python",
   "name": "python3"
  },
  "language_info": {
   "codemirror_mode": {
    "name": "ipython",
    "version": 3
   },
   "file_extension": ".py",
   "mimetype": "text/x-python",
   "name": "python",
   "nbconvert_exporter": "python",
   "pygments_lexer": "ipython3",
   "version": "3.6.8"
  }
 },
 "nbformat": 4,
 "nbformat_minor": 4
}